{
 "cells": [
  {
   "cell_type": "code",
   "execution_count": null,
   "metadata": {},
   "outputs": [],
   "source": [
    "# This is only a very early prototype of the interactive widget using three.js\n",
    "\n",
    "import bpy\n",
    "from pathlib import Path\n",
    "import molecularnodes as mn\n",
    "from ipymolecularnodes import BlenderInteractiveWidget\n",
    "\n",
    "# Ensure the glTF exporter is activated\n",
    "bpy.ops.preferences.addon_enable(module=\"io_scene_gltf2\")\n",
    "\n",
    "# Delete all mesh objects from the scene\n",
    "bpy.ops.object.select_all(action=\"DESELECT\")\n",
    "bpy.ops.object.select_by_type(type=\"MESH\")\n",
    "bpy.ops.object.delete()\n",
    "\n",
    "obj = mn.load.molecule_rcsb(\"7TYG\", starting_style=\"cartoon\", center_molecule=True)\n",
    "obj.scale = [10, 10, 10]\n",
    "\n",
    "\"\"\"\n",
    "Applies the modifiers on the modifier stack\n",
    "\n",
    "This will realise the computations inside of any Geometry Nodes modifiers, ensuring\n",
    "that the result of the node trees can be compared by looking at the resulting\n",
    "vertices of the object.\n",
    "\"\"\"\n",
    "bpy.context.view_layer.objects.active = obj\n",
    "for modifier in obj.modifiers:\n",
    "    bpy.ops.object.modifier_apply(modifier=modifier.name)\n",
    "\n",
    "# Exporting the model to .glb format for Three.js\n",
    "# Specify the path where you want to save the exported model\n",
    "gltf_path = Path() / \"_MY_MODEL_DATA.gltf\"\n",
    "\n",
    "bpy.ops.geometry.color_attribute_render_set(name=\"Color\")\n",
    "\n",
    "# Select only the object\n",
    "bpy.ops.object.select_all(action=\"DESELECT\")\n",
    "obj.select_set(True)\n",
    "\n",
    "# Export the selected obj object to a .glb file\n",
    "bpy.ops.export_scene.gltf(\n",
    "    filepath=str(gltf_path), export_format=\"GLTF_EMBEDDED\", use_selection=True\n",
    ")\n",
    "\n",
    "data = gltf_path.read_text()\n",
    "\n",
    "import json\n",
    "json_data = json.loads(data)\n",
    "\n",
    "# gltf_path.unlink()"
   ]
  },
  {
   "cell_type": "code",
   "execution_count": null,
   "metadata": {},
   "outputs": [],
   "source": [
    "b = BlenderInteractiveWidget(gltf_data = data)\n",
    "b"
   ]
  },
  {
   "cell_type": "code",
   "execution_count": null,
   "metadata": {},
   "outputs": [],
   "source": [
    "# Modify the JSON object\n",
    "new_material = {\n",
    "    \"doubleSided\": True,\n",
    "    \"name\": \"OrangeMaterial\",\n",
    "    \"pbrMetallicRoughness\": {\n",
    "        \"baseColorFactor\": [1, 0.5, 0, 1],\n",
    "        \"metallicFactor\": 0,\n",
    "        \"roughnessFactor\": 0.5\n",
    "    }\n",
    "}\n",
    "\n",
    "json_data[\"materials\"][0] = new_material\n",
    "\n",
    "# Convert the JSON object back to a string\n",
    "data_yellow = json.dumps(json_data, indent=4)"
   ]
  },
  {
   "cell_type": "code",
   "execution_count": null,
   "metadata": {},
   "outputs": [],
   "source": [
    "b3 = BlenderInteractiveWidget(gltf_data = data_yellow)\n",
    "b3"
   ]
  },
  {
   "cell_type": "code",
   "execution_count": null,
   "metadata": {},
   "outputs": [],
   "source": [
    "type(data_yellow)"
   ]
  },
  {
   "cell_type": "code",
   "execution_count": null,
   "metadata": {},
   "outputs": [],
   "source": []
  }
 ],
 "metadata": {
  "kernelspec": {
   "display_name": "Python 3 (ipykernel)",
   "language": "python",
   "name": "python3"
  },
  "language_info": {
   "codemirror_mode": {
    "name": "ipython",
    "version": 3
   },
   "file_extension": ".py",
   "mimetype": "text/x-python",
   "name": "python",
   "nbconvert_exporter": "python",
   "pygments_lexer": "ipython3",
   "version": "3.10.13"
  },
  "widgets": {
   "application/vnd.jupyter.widget-state+json": {
    "state": {},
    "version_major": 2,
    "version_minor": 0
   }
  }
 },
 "nbformat": 4,
 "nbformat_minor": 4
}
