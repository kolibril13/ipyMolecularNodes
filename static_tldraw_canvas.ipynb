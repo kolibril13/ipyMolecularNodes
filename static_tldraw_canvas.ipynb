{
 "cells": [
  {
   "cell_type": "code",
   "execution_count": 1,
   "metadata": {},
   "outputs": [
    {
     "ename": "KeyError",
     "evalue": "'im1.png'",
     "output_type": "error",
     "traceback": [
      "\u001b[0;31m---------------------------------------------------------------------------\u001b[0m",
      "\u001b[0;31mKeyError\u001b[0m                                  Traceback (most recent call last)",
      "\u001b[1;32m/Users/jan-hendrik/projects/ipyMolecularNodes/static_tldraw_canvas.ipynb Cell 1\u001b[0m line \u001b[0;36m1\n\u001b[1;32m     <a href='vscode-notebook-cell:/Users/jan-hendrik/projects/ipyMolecularNodes/static_tldraw_canvas.ipynb#W0sZmlsZQ%3D%3D?line=12'>13</a>\u001b[0m         base64_images[\n\u001b[1;32m     <a href='vscode-notebook-cell:/Users/jan-hendrik/projects/ipyMolecularNodes/static_tldraw_canvas.ipynb#W0sZmlsZQ%3D%3D?line=13'>14</a>\u001b[0m             image_path\u001b[39m.\u001b[39mname\n\u001b[1;32m     <a href='vscode-notebook-cell:/Users/jan-hendrik/projects/ipyMolecularNodes/static_tldraw_canvas.ipynb#W0sZmlsZQ%3D%3D?line=14'>15</a>\u001b[0m         ] \u001b[39m=\u001b[39m \u001b[39mf\u001b[39m\u001b[39m\"\u001b[39m\u001b[39mdata:image/png;base64,\u001b[39m\u001b[39m{\u001b[39;00mbase64_img_string_raw\u001b[39m}\u001b[39;00m\u001b[39m\"\u001b[39m\n\u001b[1;32m     <a href='vscode-notebook-cell:/Users/jan-hendrik/projects/ipyMolecularNodes/static_tldraw_canvas.ipynb#W0sZmlsZQ%3D%3D?line=16'>17</a>\u001b[0m \u001b[39mfrom\u001b[39;00m \u001b[39mtldraw\u001b[39;00m \u001b[39mimport\u001b[39;00m TldrawImageArray\n\u001b[0;32m---> <a href='vscode-notebook-cell:/Users/jan-hendrik/projects/ipyMolecularNodes/static_tldraw_canvas.ipynb#W0sZmlsZQ%3D%3D?line=18'>19</a>\u001b[0m t \u001b[39m=\u001b[39m TldrawImageArray(base64img\u001b[39m=\u001b[39mbase64_images[\u001b[39m\"\u001b[39;49m\u001b[39mim1.png\u001b[39;49m\u001b[39m\"\u001b[39;49m])\n\u001b[1;32m     <a href='vscode-notebook-cell:/Users/jan-hendrik/projects/ipyMolecularNodes/static_tldraw_canvas.ipynb#W0sZmlsZQ%3D%3D?line=19'>20</a>\u001b[0m display(t)\n\u001b[1;32m     <a href='vscode-notebook-cell:/Users/jan-hendrik/projects/ipyMolecularNodes/static_tldraw_canvas.ipynb#W0sZmlsZQ%3D%3D?line=21'>22</a>\u001b[0m \u001b[39mimport\u001b[39;00m \u001b[39mtime\u001b[39;00m\n",
      "\u001b[0;31mKeyError\u001b[0m: 'im1.png'"
     ]
    }
   ],
   "source": [
    "from pathlib import Path\n",
    "\n",
    "import base64\n",
    "\n",
    "# Assuming the images are now in the 'image_assets' folder and the path is correct\n",
    "image_files = list(Path(\"image_assets\").glob(\"*\"))\n",
    "\n",
    "# Read all images into base64 strings\n",
    "base64_images = {}\n",
    "for image_path in image_files:\n",
    "    with open(image_path, \"rb\") as image_file:\n",
    "        base64_img_string_raw = base64.b64encode(image_file.read()).decode(\"utf-8\")\n",
    "        base64_images[\n",
    "            image_path.name\n",
    "        ] = f\"data:image/png;base64,{base64_img_string_raw}\"\n",
    "\n",
    "from tldraw import TldrawImageArray\n",
    "\n",
    "t = TldrawImageArray(base64img=base64_images[\"im1.png\"])\n",
    "display(t)\n",
    "\n",
    "import time\n",
    "\n",
    "for img in base64_images.values():\n",
    "    t.base64img = img\n",
    "    time.sleep(0.8)"
   ]
  }
 ],
 "metadata": {
  "kernelspec": {
   "display_name": ".venv",
   "language": "python",
   "name": "python3"
  },
  "language_info": {
   "codemirror_mode": {
    "name": "ipython",
    "version": 3
   },
   "file_extension": ".py",
   "mimetype": "text/x-python",
   "name": "python",
   "nbconvert_exporter": "python",
   "pygments_lexer": "ipython3",
   "version": "3.10.13"
  }
 },
 "nbformat": 4,
 "nbformat_minor": 2
}
