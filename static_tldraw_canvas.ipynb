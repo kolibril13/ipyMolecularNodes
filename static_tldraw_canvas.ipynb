{
 "cells": [
  {
   "cell_type": "code",
   "execution_count": null,
   "metadata": {},
   "outputs": [],
   "source": [
    "from pathlib import Path\n",
    "import base64\n",
    "from IPython.display import display\n",
    "from tldraw import TldrawImageArray\n",
    "import time\n",
    "\n",
    "# ℹ️ images where originally rendered static_example_transparent.ipynb, here we use time.sleep(0.8) to simulate the rendering time.\n",
    "\n",
    "image_files = list(Path(\"image_assets\").glob(\"*\"))\n",
    "# Read all images into base64 strings\n",
    "base64_images = {}\n",
    "for image_path in image_files:\n",
    "    with open(image_path, \"rb\") as image_file:\n",
    "        base64_img_string_raw = base64.b64encode(image_file.read()).decode(\"utf-8\")\n",
    "        base64_images[\n",
    "            image_path.name\n",
    "        ] = f\"data:image/png;base64,{base64_img_string_raw}\"\n",
    "\n",
    "\n",
    "\n",
    "tldraw = TldrawImageArray(base64img=base64_images[\"im1.png\"])\n",
    "display(tldraw)\n",
    "\n",
    "\n",
    "\n",
    "\n",
    "\n",
    "molecules = base64_images.values()\n",
    "\n",
    "\n",
    "def render_to_canvas(protein):\n",
    "    tldraw.base64img = protein\n",
    "    time.sleep(0.8) # here we use time.sleep(0.8) to simulate the rendering time.\n",
    "\n",
    "\n",
    "for mol in molecules:\n",
    "    render_to_canvas(mol)"
   ]
  },
  {
   "cell_type": "code",
   "execution_count": null,
   "metadata": {},
   "outputs": [],
   "source": []
  }
 ],
 "metadata": {
  "kernelspec": {
   "display_name": ".venv",
   "language": "python",
   "name": "python3"
  },
  "language_info": {
   "codemirror_mode": {
    "name": "ipython",
    "version": 3
   },
   "file_extension": ".py",
   "mimetype": "text/x-python",
   "name": "python",
   "nbconvert_exporter": "python",
   "pygments_lexer": "ipython3",
   "version": "3.10.13"
  }
 },
 "nbformat": 4,
 "nbformat_minor": 2
}
