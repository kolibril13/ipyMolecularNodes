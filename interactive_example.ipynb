{
 "cells": [
  {
   "cell_type": "code",
   "execution_count": null,
   "metadata": {},
   "outputs": [],
   "source": [
    "# This is only a very early prototype of the interactive widget using three.js\n",
    "\n",
    "import bpy\n",
    "from pathlib import Path\n",
    "import molecularnodes as mn\n",
    "\n",
    "# Ensure the glTF exporter is activated\n",
    "bpy.ops.preferences.addon_enable(module=\"io_scene_gltf2\")\n",
    "\n",
    "# Delete all mesh objects from the scene\n",
    "bpy.ops.object.select_all(action=\"DESELECT\")\n",
    "bpy.ops.object.select_by_type(type=\"MESH\")\n",
    "bpy.ops.object.delete()\n",
    "\n",
    "obj = mn.load.molecule_rcsb(\"7TYG\", starting_style=\"cartoon\", center_molecule=True)\n",
    "obj.scale = [10, 10, 10]\n",
    "\n",
    "bpy.context.view_layer.objects.active = obj\n",
    "obj.modifiers[\"MolecularNodes\"].node_group.nodes[\"MN_color_attribute_random\"].inputs[\"Lightness\"].default_value = 0.5\n",
    "obj.modifiers[\"MolecularNodes\"].node_group.nodes[\"MN_color_attribute_random\"].inputs[\"Saturation\"].default_value = 1\n",
    "obj.modifiers[\"MolecularNodes\"].node_group.nodes[\"MN_color_attribute_random\"].inputs[\"Seed\"].default_value = 1\n",
    "\n",
    "for modifier in obj.modifiers:\n",
    "    bpy.ops.object.modifier_apply(modifier=modifier.name)\n",
    "bpy.ops.geometry.color_attribute_render_set(name=\"Color\")\n",
    "\n",
    "\n",
    "# Exporting the model to .glb format for Three.js\n",
    "# Specify the path where you want to save the exported model\n",
    "gltf_path = Path() / \"_MY_MODEL_DATA.gltf\"\n",
    "\n",
    "bpy.ops.geometry.color_attribute_render_set(name=\"Color\")\n",
    "\n",
    "# Select only the object\n",
    "bpy.ops.object.select_all(action=\"DESELECT\")\n",
    "obj.select_set(True)\n",
    "\n",
    "# Export the selected obj object to a .glb file\n",
    "bpy.ops.export_scene.gltf(\n",
    "    filepath=str(gltf_path), export_format=\"GLTF_EMBEDDED\", use_selection=True\n",
    ")\n",
    "\n",
    "data = gltf_path.read_text()\n",
    "\n",
    "gltf_path.unlink()\n",
    "\n",
    "from anywidget_3dviewer import Viewer\n",
    "\n",
    "b = Viewer(gltf_data=data)\n",
    "b"
   ]
  },
  {
   "cell_type": "code",
   "execution_count": null,
   "metadata": {},
   "outputs": [],
   "source": []
  }
 ],
 "metadata": {
  "kernelspec": {
   "display_name": "Python 3 (ipykernel)",
   "language": "python",
   "name": "python3"
  },
  "language_info": {
   "codemirror_mode": {
    "name": "ipython",
    "version": 3
   },
   "file_extension": ".py",
   "mimetype": "text/x-python",
   "name": "python",
   "nbconvert_exporter": "python",
   "pygments_lexer": "ipython3",
   "version": "3.10.13"
  },
  "widgets": {
   "application/vnd.jupyter.widget-state+json": {
    "state": {},
    "version_major": 2,
    "version_minor": 0
   }
  }
 },
 "nbformat": 4,
 "nbformat_minor": 4
}
